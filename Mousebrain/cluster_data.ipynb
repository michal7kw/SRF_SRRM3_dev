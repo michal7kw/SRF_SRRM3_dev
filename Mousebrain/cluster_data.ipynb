{
 "cells": [
  {
   "cell_type": "code",
   "execution_count": null,
   "metadata": {},
   "outputs": [],
   "source": [
    "# Import required libraries\n",
    "import loompy\n",
    "import numpy as np\n",
    "import pandas as pd\n",
    "import gc  # for garbage collection\n",
    "import os\n",
    "import seaborn as sns\n",
    "import matplotlib.pyplot as plt\n",
    "from typing import Dict, List\n",
    "import warnings\n",
    "warnings.filterwarnings('ignore')\n",
    "\n",
    "# Set working directory\n",
    "os.chdir('/beegfs/scratch/ric.broccoli/kubacki.michal/SRF_SRRM3_dev/Mousebrain')\n",
    "\n",
    "# Set plotting style\n",
    "plt.style.use('default')  # Use default matplotlib style\n",
    "sns.set_theme()  # Apply seaborn styling\n",
    "sns.set_palette(\"husl\")"
   ]
  }
 ],
 "metadata": {
  "language_info": {
   "name": "python"
  }
 },
 "nbformat": 4,
 "nbformat_minor": 2
}

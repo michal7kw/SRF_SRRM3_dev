{
 "cells": [
  {
   "cell_type": "markdown",
   "metadata": {},
   "source": [
    "# Environment"
   ]
  },
  {
   "cell_type": "code",
   "execution_count": 1,
   "metadata": {
    "lines_to_next_cell": 2
   },
   "outputs": [],
   "source": [
    "# Import required libraries\n",
    "import loompy\n",
    "import numpy as np\n",
    "import pandas as pd\n",
    "import gc  # for garbage collection\n",
    "import os\n",
    "import seaborn as sns\n",
    "import matplotlib.pyplot as plt\n",
    "from typing import Dict, List\n",
    "import warnings\n",
    "warnings.filterwarnings('ignore')\n",
    "\n",
    "# Set working directory\n",
    "os.chdir('/beegfs/scratch/ric.broccoli/kubacki.michal/SRF_SRRM3_dev/Mousebrain')\n",
    "\n",
    "# Set plotting style\n",
    "plt.style.use('default')  # Use default matplotlib style\n",
    "sns.set_theme()  # Apply seaborn styling\n",
    "sns.set_palette(\"husl\")"
   ]
  },
  {
   "cell_type": "code",
   "execution_count": 2,
   "metadata": {},
   "outputs": [],
   "source": [
    "loom_path = \"/beegfs/scratch/ric.broccoli/kubacki.michal/SRF_SRRM3_dev/Mousebrain/DATA/dev_all.loom\""
   ]
  },
  {
   "cell_type": "code",
   "execution_count": 3,
   "metadata": {},
   "outputs": [
    {
     "name": "stdout",
     "output_type": "stream",
     "text": [
      "File exists: True\n",
      "File size: 9.56 GB\n"
     ]
    }
   ],
   "source": [
    "# Verify file exists\n",
    "print(f\"File exists: {os.path.exists(loom_path)}\")\n",
    "print(f\"File size: {os.path.getsize(loom_path) / (1024**3):.2f} GB\")"
   ]
  },
  {
   "cell_type": "markdown",
   "metadata": {},
   "source": [
    "# Define functions"
   ]
  },
  {
   "cell_type": "markdown",
   "metadata": {},
   "source": [
    "**Column attributes**\n",
    "- Age: object\n",
    "- BTSNE: float64\n",
    "- CellCycle: float64\n",
    "- CellID: object\n",
    "- Cell_Conc: int64\n",
    "- Chemistry: object\n",
    "- ChipID: object\n",
    "- Class: object\n",
    "- ClusterName: object\n",
    "- Clusters: int64\n",
    "- Date_Captured: object\n",
    "- DonorID: object\n",
    "- DoubletFinderPCA: float64\n",
    "- HPF: float64\n",
    "- HPF_LogPP: float64\n",
    "- HPF_theta: float64\n",
    "- IsCycling: uint8\n",
    "- Label: object\n",
    "- Location_E9_E11: object\n",
    "- NCellsCluster: int64\n",
    "- NGenes: float64\n",
    "- Num_Pooled_Animals: int64\n",
    "- PCA: float64\n",
    "- PCR_Cycles: int64\n",
    "- Plug_Date: object\n",
    "- Project: object\n",
    "- PseudoAge: float64\n",
    "- PseudoTissue: object\n",
    "- Region: object\n",
    "- SampleID: object\n",
    "- SampleName: object\n",
    "- Sample_Index: object\n",
    "- Sex: object\n",
    "- Species: object\n",
    "- Split: int64\n",
    "- Strain: object\n",
    "- Subclass: object\n",
    "- TSNE: float64\n",
    "- Target_Num_Cells: float64\n",
    "- Tissue: object\n",
    "- TotalUMI: float64\n",
    "- Transcriptome: object\n",
    "- UMAP: float32\n",
    "- UMAP3D: float32\n",
    "- cDNA_Lib_Ok: object\n",
    "- ngperul_cDNA: object\n"
   ]
  },
  {
   "cell_type": "code",
   "execution_count": 10,
   "metadata": {
    "lines_to_next_cell": 1
   },
   "outputs": [],
   "source": [
    "def get_srrm3_data(loom_path: str) -> Dict:\n",
    "    \"\"\"Extract Srrm3-related data from the loom file\"\"\"\n",
    "    with loompy.connect(loom_path) as ds:\n",
    "        # Find Srrm3 gene index\n",
    "        gene_indices = np.where(ds.ra.Gene == 'Srrm3')[0]\n",
    "        if len(gene_indices) == 0:\n",
    "            raise ValueError(\"Srrm3 gene not found in dataset\")\n",
    "        srrm3_idx = gene_indices[0]\n",
    "        \n",
    "        # Extract Srrm3 expression data\n",
    "        srrm3_expr = ds[srrm3_idx, :]\n",
    "        \n",
    "        # Extract relevant metadata\n",
    "        metadata = {\n",
    "            'Age': ds.ca.Age,\n",
    "            'Tissue': ds.ca.Tissue,\n",
    "            'Sex': ds.ca.Sex,\n",
    "            'Subclass': ds.ca.Subclass,\n",
    "            'Class': ds.ca.Class,\n",
    "            'Region': ds.ca.Region,\n",
    "            'PseudoAge': ds.ca.PseudoAge,\n",
    "            'Expression': srrm3_expr\n",
    "        }\n",
    "        \n",
    "        return metadata\n",
    "\n",
    "def plot_temporal_expression(data: Dict):\n",
    "    \"\"\"Plot Srrm3 expression across developmental time\"\"\"\n",
    "    plt.figure(figsize=(12, 6))\n",
    "    \n",
    "    # Create violin plot\n",
    "    df = pd.DataFrame({\n",
    "        'PseudoAge': data['PseudoAge'],\n",
    "        'Expression': data['Expression']\n",
    "    })\n",
    "    \n",
    "    sns.violinplot(data=df, x='PseudoAge', y='Expression')\n",
    "    plt.title('Srrm3 Expression Across Developmental Time')\n",
    "    plt.xlabel('Pseudo Age')\n",
    "    plt.ylabel('Expression Level')\n",
    "    plt.xticks(rotation=45)\n",
    "    plt.tight_layout()\n",
    "    plt.savefig('plots/srrm3_temporal_expression.pdf')\n",
    "    plt.close()\n",
    "\n",
    "def plot_cell_type_expression(data: Dict):\n",
    "    \"\"\"Plot Srrm3 expression across cell types\"\"\"\n",
    "    plt.figure(figsize=(15, 6))\n",
    "    \n",
    "    # Create box plot\n",
    "    df = pd.DataFrame({\n",
    "        'Cell Type': data['Class'],\n",
    "        'Expression': data['Expression']\n",
    "    })\n",
    "    \n",
    "    # Calculate mean expression per cell type for sorting\n",
    "    cell_type_means = df.groupby('Cell Type')['Expression'].mean().sort_values(ascending=False)\n",
    "    \n",
    "    sns.boxplot(data=df, x='Cell Type', y='Expression', order=cell_type_means.index)\n",
    "    plt.title('Srrm3 Expression Across Cell Types')\n",
    "    plt.xlabel('Cell Type')\n",
    "    plt.ylabel('Expression Level')\n",
    "    plt.xticks(rotation=90)\n",
    "    plt.tight_layout()\n",
    "    plt.savefig('plots/srrm3_cell_type_expression.pdf')\n",
    "    plt.close()\n",
    "\n",
    "def plot_regional_expression(data: Dict):\n",
    "    \"\"\"Plot Srrm3 expression across brain regions\"\"\"\n",
    "    plt.figure(figsize=(15, 6))\n",
    "    \n",
    "    # Create box plot\n",
    "    df = pd.DataFrame({\n",
    "        'Region': data['Region'],\n",
    "        'Expression': data['Expression']\n",
    "    })\n",
    "    \n",
    "    # Calculate mean expression per region for sorting\n",
    "    region_means = df.groupby('Region')['Expression'].mean().sort_values(ascending=False)\n",
    "    \n",
    "    sns.boxplot(data=df, x='Region', y='Expression', order=region_means.index)\n",
    "    plt.title('Srrm3 Expression Across Brain Regions')\n",
    "    plt.xlabel('Brain Region')\n",
    "    plt.ylabel('Expression Level')\n",
    "    plt.xticks(rotation=90)\n",
    "    plt.tight_layout()\n",
    "    plt.savefig('plots/srrm3_regional_expression.pdf')\n",
    "    plt.close()\n",
    "\n",
    "def plot_temporal_cell_type_heatmap(data: Dict):\n",
    "    \"\"\"Plot heatmap of Srrm3 expression across cell types and time\"\"\"\n",
    "    df = pd.DataFrame({\n",
    "        'PseudoAge': data['PseudoAge'],\n",
    "        'Cell Type': data['Class'],\n",
    "        'Expression': data['Expression']\n",
    "    })\n",
    "    \n",
    "    # Calculate mean expression for each cell type at each time point\n",
    "    pivot_table = df.pivot_table(\n",
    "        values='Expression',\n",
    "        index='Cell Type',\n",
    "        columns='PseudoAge',\n",
    "        aggfunc='mean'\n",
    "    )\n",
    "    \n",
    "    plt.figure(figsize=(15, 10))\n",
    "    sns.heatmap(pivot_table, cmap='viridis', center=0)\n",
    "    plt.title('Srrm3 Expression Across Cell Types and Development')\n",
    "    plt.xlabel('Pseudo Age')\n",
    "    plt.ylabel('Cell Type')\n",
    "    plt.tight_layout()\n",
    "    plt.savefig('plots/srrm3_temporal_cell_type_heatmap.pdf')\n",
    "    plt.close()"
   ]
  },
  {
   "cell_type": "code",
   "execution_count": 4,
   "metadata": {
    "lines_to_next_cell": 1
   },
   "outputs": [
    {
     "name": "stdout",
     "output_type": "stream",
     "text": [
      "\n",
      "Dataset shape: (31053, 292495)\n",
      "Number of cells: 292,495\n",
      "Number of genes: 31,053\n",
      "\n",
      "Column attributes (cell metadata):\n",
      "- Age: object\n",
      "- BTSNE: float64\n",
      "- CellCycle: float64\n",
      "- CellID: object\n",
      "- Cell_Conc: int64\n",
      "- Chemistry: object\n",
      "- ChipID: object\n",
      "- Class: object\n",
      "- ClusterName: object\n",
      "- Clusters: int64\n",
      "- Date_Captured: object\n",
      "- DonorID: object\n",
      "- DoubletFinderPCA: float64\n",
      "- HPF: float64\n",
      "- HPF_LogPP: float64\n",
      "- HPF_theta: float64\n",
      "- IsCycling: uint8\n",
      "- Label: object\n",
      "- Location_E9_E11: object\n",
      "- NCellsCluster: int64\n",
      "- NGenes: float64\n",
      "- Num_Pooled_Animals: int64\n",
      "- PCA: float64\n",
      "- PCR_Cycles: int64\n",
      "- Plug_Date: object\n",
      "- Project: object\n",
      "- PseudoAge: float64\n",
      "- PseudoTissue: object\n",
      "- Region: object\n",
      "- SampleID: object\n",
      "- SampleName: object\n",
      "- Sample_Index: object\n",
      "- Sex: object\n",
      "- Species: object\n",
      "- Split: int64\n",
      "- Strain: object\n",
      "- Subclass: object\n",
      "- TSNE: float64\n",
      "- Target_Num_Cells: float64\n",
      "- Tissue: object\n",
      "- TotalUMI: float64\n",
      "- Transcriptome: object\n",
      "- UMAP: float32\n",
      "- UMAP3D: float32\n",
      "- cDNA_Lib_Ok: object\n",
      "- ngperul_cDNA: object\n",
      "\n",
      "Row attributes (gene metadata):\n",
      "- Accession: object\n",
      "- Chromosome: object\n",
      "- End: int64\n",
      "- Gamma: float64\n",
      "- Gene: object\n",
      "- HPF: float64\n",
      "- HPF_beta: float64\n",
      "- MultilevelMarkers: float64\n",
      "- Selected: int64\n",
      "- Start: int64\n",
      "- Strand: object\n",
      "- Valid: int64\n",
      "\n",
      "Sample of expression matrix (5x5):\n",
      "[[ 0.  0.  0.  1.  0.]\n",
      " [ 0.  2.  0.  3.  7.]\n",
      " [ 0.  0.  0.  0.  0.]\n",
      " [ 0. 11.  7.  2.  8.]\n",
      " [ 1.  1.  0.  0.  1.]]\n",
      "\n",
      "Basic statistics:\n",
      "Mean expression: 1.7600\n",
      "Median expression: 0.0000\n",
      "Sparsity: 56.00%\n"
     ]
    },
    {
     "data": {
      "text/plain": [
       "20"
      ]
     },
     "execution_count": 4,
     "metadata": {},
     "output_type": "execute_result"
    }
   ],
   "source": [
    "# Connect to the loom file (this doesn't load it entirely into memory)\n",
    "with loompy.connect(loom_path) as ds:\n",
    "    # Basic information about the dataset\n",
    "    print(\"\\nDataset shape:\", ds.shape)\n",
    "    print(f\"Number of cells: {ds.shape[1]:,}\")\n",
    "    print(f\"Number of genes: {ds.shape[0]:,}\")\n",
    "    \n",
    "    # Examine column attributes (cell metadata)\n",
    "    print(\"\\nColumn attributes (cell metadata):\")\n",
    "    for attr in ds.ca.keys():\n",
    "        print(f\"- {attr}: {ds.ca[attr].dtype}\")\n",
    "    \n",
    "    # Examine row attributes (gene metadata)\n",
    "    print(\"\\nRow attributes (gene metadata):\")\n",
    "    for attr in ds.ra.keys():\n",
    "        print(f\"- {attr}: {ds.ra[attr].dtype}\")\n",
    "    \n",
    "    # Get a small sample of the expression matrix (first 5 genes, first 5 cells)\n",
    "    print(\"\\nSample of expression matrix (5x5):\")\n",
    "    sample_matrix = ds[:5, :5]\n",
    "    print(sample_matrix)\n",
    "    \n",
    "    # Get some basic statistics\n",
    "    print(\"\\nBasic statistics:\")\n",
    "    print(f\"Mean expression: {np.mean(sample_matrix):.4f}\")\n",
    "    print(f\"Median expression: {np.median(sample_matrix):.4f}\")\n",
    "    print(f\"Sparsity: {(sample_matrix == 0).sum() / sample_matrix.size:.2%}\")\n",
    "\n",
    "# Force garbage collection\n",
    "gc.collect()"
   ]
  },
  {
   "cell_type": "code",
   "execution_count": 11,
   "id": "daa42f72",
   "metadata": {},
   "outputs": [],
   "source": [
    "# Create plots directory if it doesn't exist\n",
    "os.makedirs('plots', exist_ok=True)"
   ]
  },
  {
   "cell_type": "code",
   "execution_count": 12,
   "id": "c21aaccc",
   "metadata": {
    "lines_to_next_cell": 0
   },
   "outputs": [],
   "source": [
    "data = get_srrm3_data(loom_path)"
   ]
  },
  {
   "cell_type": "code",
   "execution_count": 14,
   "metadata": {},
   "outputs": [
    {
     "ename": "AttributeError",
     "evalue": "'dict' object has no attribute 'head'",
     "output_type": "error",
     "traceback": [
      "\u001b[0;31m---------------------------------------------------------------------------\u001b[0m",
      "\u001b[0;31mAttributeError\u001b[0m                            Traceback (most recent call last)",
      "Cell \u001b[0;32mIn[14], line 1\u001b[0m\n\u001b[0;32m----> 1\u001b[0m \u001b[43mdata\u001b[49m\u001b[38;5;241;43m.\u001b[39;49m\u001b[43mhead\u001b[49m()\n",
      "\u001b[0;31mAttributeError\u001b[0m: 'dict' object has no attribute 'head'"
     ]
    }
   ],
   "source": [
    "data.head()"
   ]
  },
  {
   "cell_type": "code",
   "execution_count": 8,
   "id": "8a1ae570",
   "metadata": {
    "lines_to_next_cell": 0
   },
   "outputs": [
    {
     "ename": "KeyboardInterrupt",
     "evalue": "",
     "output_type": "error",
     "traceback": [
      "\u001b[0;31m---------------------------------------------------------------------------\u001b[0m",
      "\u001b[0;31mKeyboardInterrupt\u001b[0m                         Traceback (most recent call last)",
      "Cell \u001b[0;32mIn[8], line 1\u001b[0m\n\u001b[0;32m----> 1\u001b[0m \u001b[43mplot_temporal_expression\u001b[49m\u001b[43m(\u001b[49m\u001b[43mdata\u001b[49m\u001b[43m)\u001b[49m\n",
      "Cell \u001b[0;32mIn[5], line 34\u001b[0m, in \u001b[0;36mplot_temporal_expression\u001b[0;34m(data)\u001b[0m\n\u001b[1;32m     28\u001b[0m \u001b[38;5;66;03m# Create violin plot\u001b[39;00m\n\u001b[1;32m     29\u001b[0m df \u001b[38;5;241m=\u001b[39m pd\u001b[38;5;241m.\u001b[39mDataFrame({\n\u001b[1;32m     30\u001b[0m     \u001b[38;5;124m'\u001b[39m\u001b[38;5;124mPseudoAge\u001b[39m\u001b[38;5;124m'\u001b[39m: data[\u001b[38;5;124m'\u001b[39m\u001b[38;5;124mPseudoAge\u001b[39m\u001b[38;5;124m'\u001b[39m],\n\u001b[1;32m     31\u001b[0m     \u001b[38;5;124m'\u001b[39m\u001b[38;5;124mExpression\u001b[39m\u001b[38;5;124m'\u001b[39m: data[\u001b[38;5;124m'\u001b[39m\u001b[38;5;124mExpression\u001b[39m\u001b[38;5;124m'\u001b[39m]\n\u001b[1;32m     32\u001b[0m })\n\u001b[0;32m---> 34\u001b[0m \u001b[43msns\u001b[49m\u001b[38;5;241;43m.\u001b[39;49m\u001b[43mviolinplot\u001b[49m\u001b[43m(\u001b[49m\u001b[43mdata\u001b[49m\u001b[38;5;241;43m=\u001b[39;49m\u001b[43mdf\u001b[49m\u001b[43m,\u001b[49m\u001b[43m \u001b[49m\u001b[43mx\u001b[49m\u001b[38;5;241;43m=\u001b[39;49m\u001b[38;5;124;43m'\u001b[39;49m\u001b[38;5;124;43mPseudoAge\u001b[39;49m\u001b[38;5;124;43m'\u001b[39;49m\u001b[43m,\u001b[49m\u001b[43m \u001b[49m\u001b[43my\u001b[49m\u001b[38;5;241;43m=\u001b[39;49m\u001b[38;5;124;43m'\u001b[39;49m\u001b[38;5;124;43mExpression\u001b[39;49m\u001b[38;5;124;43m'\u001b[39;49m\u001b[43m)\u001b[49m\n\u001b[1;32m     35\u001b[0m plt\u001b[38;5;241m.\u001b[39mtitle(\u001b[38;5;124m'\u001b[39m\u001b[38;5;124mSrrm3 Expression Across Developmental Time\u001b[39m\u001b[38;5;124m'\u001b[39m)\n\u001b[1;32m     36\u001b[0m plt\u001b[38;5;241m.\u001b[39mxlabel(\u001b[38;5;124m'\u001b[39m\u001b[38;5;124mPseudo Age\u001b[39m\u001b[38;5;124m'\u001b[39m)\n",
      "File \u001b[0;32m/beegfs/scratch/ric.broccoli/kubacki.michal/conda_envs/snakemake/lib/python3.11/site-packages/seaborn/categorical.py:1770\u001b[0m, in \u001b[0;36mviolinplot\u001b[0;34m(data, x, y, hue, order, hue_order, orient, color, palette, saturation, fill, inner, split, width, dodge, gap, linewidth, linecolor, cut, gridsize, bw_method, bw_adjust, density_norm, common_norm, hue_norm, formatter, log_scale, native_scale, legend, scale, scale_hue, bw, inner_kws, ax, **kwargs)\u001b[0m\n\u001b[1;32m   1767\u001b[0m kde_kws \u001b[38;5;241m=\u001b[39m \u001b[38;5;28mdict\u001b[39m(cut\u001b[38;5;241m=\u001b[39mcut, gridsize\u001b[38;5;241m=\u001b[39mgridsize, bw_method\u001b[38;5;241m=\u001b[39mbw_method, bw_adjust\u001b[38;5;241m=\u001b[39mbw_adjust)\n\u001b[1;32m   1768\u001b[0m inner_kws \u001b[38;5;241m=\u001b[39m {} \u001b[38;5;28;01mif\u001b[39;00m inner_kws \u001b[38;5;129;01mis\u001b[39;00m \u001b[38;5;28;01mNone\u001b[39;00m \u001b[38;5;28;01melse\u001b[39;00m inner_kws\u001b[38;5;241m.\u001b[39mcopy()\n\u001b[0;32m-> 1770\u001b[0m \u001b[43mp\u001b[49m\u001b[38;5;241;43m.\u001b[39;49m\u001b[43mplot_violins\u001b[49m\u001b[43m(\u001b[49m\n\u001b[1;32m   1771\u001b[0m \u001b[43m    \u001b[49m\u001b[43mwidth\u001b[49m\u001b[38;5;241;43m=\u001b[39;49m\u001b[43mwidth\u001b[49m\u001b[43m,\u001b[49m\n\u001b[1;32m   1772\u001b[0m \u001b[43m    \u001b[49m\u001b[43mdodge\u001b[49m\u001b[38;5;241;43m=\u001b[39;49m\u001b[43mdodge\u001b[49m\u001b[43m,\u001b[49m\n\u001b[1;32m   1773\u001b[0m \u001b[43m    \u001b[49m\u001b[43mgap\u001b[49m\u001b[38;5;241;43m=\u001b[39;49m\u001b[43mgap\u001b[49m\u001b[43m,\u001b[49m\n\u001b[1;32m   1774\u001b[0m \u001b[43m    \u001b[49m\u001b[43msplit\u001b[49m\u001b[38;5;241;43m=\u001b[39;49m\u001b[43msplit\u001b[49m\u001b[43m,\u001b[49m\n\u001b[1;32m   1775\u001b[0m \u001b[43m    \u001b[49m\u001b[43mcolor\u001b[49m\u001b[38;5;241;43m=\u001b[39;49m\u001b[43mcolor\u001b[49m\u001b[43m,\u001b[49m\n\u001b[1;32m   1776\u001b[0m \u001b[43m    \u001b[49m\u001b[43mfill\u001b[49m\u001b[38;5;241;43m=\u001b[39;49m\u001b[43mfill\u001b[49m\u001b[43m,\u001b[49m\n\u001b[1;32m   1777\u001b[0m \u001b[43m    \u001b[49m\u001b[43mlinecolor\u001b[49m\u001b[38;5;241;43m=\u001b[39;49m\u001b[43mlinecolor\u001b[49m\u001b[43m,\u001b[49m\n\u001b[1;32m   1778\u001b[0m \u001b[43m    \u001b[49m\u001b[43mlinewidth\u001b[49m\u001b[38;5;241;43m=\u001b[39;49m\u001b[43mlinewidth\u001b[49m\u001b[43m,\u001b[49m\n\u001b[1;32m   1779\u001b[0m \u001b[43m    \u001b[49m\u001b[43minner\u001b[49m\u001b[38;5;241;43m=\u001b[39;49m\u001b[43minner\u001b[49m\u001b[43m,\u001b[49m\n\u001b[1;32m   1780\u001b[0m \u001b[43m    \u001b[49m\u001b[43mdensity_norm\u001b[49m\u001b[38;5;241;43m=\u001b[39;49m\u001b[43mdensity_norm\u001b[49m\u001b[43m,\u001b[49m\n\u001b[1;32m   1781\u001b[0m \u001b[43m    \u001b[49m\u001b[43mcommon_norm\u001b[49m\u001b[38;5;241;43m=\u001b[39;49m\u001b[43mcommon_norm\u001b[49m\u001b[43m,\u001b[49m\n\u001b[1;32m   1782\u001b[0m \u001b[43m    \u001b[49m\u001b[43mkde_kws\u001b[49m\u001b[38;5;241;43m=\u001b[39;49m\u001b[43mkde_kws\u001b[49m\u001b[43m,\u001b[49m\n\u001b[1;32m   1783\u001b[0m \u001b[43m    \u001b[49m\u001b[43minner_kws\u001b[49m\u001b[38;5;241;43m=\u001b[39;49m\u001b[43minner_kws\u001b[49m\u001b[43m,\u001b[49m\n\u001b[1;32m   1784\u001b[0m \u001b[43m    \u001b[49m\u001b[43mplot_kws\u001b[49m\u001b[38;5;241;43m=\u001b[39;49m\u001b[43mkwargs\u001b[49m\u001b[43m,\u001b[49m\n\u001b[1;32m   1785\u001b[0m \u001b[43m\u001b[49m\u001b[43m)\u001b[49m\n\u001b[1;32m   1787\u001b[0m p\u001b[38;5;241m.\u001b[39m_add_axis_labels(ax)\n\u001b[1;32m   1788\u001b[0m p\u001b[38;5;241m.\u001b[39m_adjust_cat_axis(ax, axis\u001b[38;5;241m=\u001b[39mp\u001b[38;5;241m.\u001b[39morient)\n",
      "File \u001b[0;32m/beegfs/scratch/ric.broccoli/kubacki.michal/conda_envs/snakemake/lib/python3.11/site-packages/seaborn/categorical.py:970\u001b[0m, in \u001b[0;36m_CategoricalPlotter.plot_violins\u001b[0;34m(self, width, dodge, gap, split, color, fill, linecolor, linewidth, inner, density_norm, common_norm, kde_kws, inner_kws, plot_kws)\u001b[0m\n\u001b[1;32m    967\u001b[0m     \u001b[38;5;28;01mwith\u001b[39;00m warnings\u001b[38;5;241m.\u001b[39mcatch_warnings():\n\u001b[1;32m    968\u001b[0m         \u001b[38;5;66;03m# Ignore warning when all violins are singular; it's not important\u001b[39;00m\n\u001b[1;32m    969\u001b[0m         warnings\u001b[38;5;241m.\u001b[39mfilterwarnings(\u001b[38;5;124m'\u001b[39m\u001b[38;5;124mignore\u001b[39m\u001b[38;5;124m'\u001b[39m, \u001b[38;5;124m\"\u001b[39m\u001b[38;5;124mAll-NaN (slice|axis) encountered\u001b[39m\u001b[38;5;124m\"\u001b[39m)\n\u001b[0;32m--> 970\u001b[0m         max_density \u001b[38;5;241m=\u001b[39m \u001b[43m{\u001b[49m\n\u001b[1;32m    971\u001b[0m \u001b[43m            \u001b[49m\u001b[43mkey\u001b[49m\u001b[43m:\u001b[49m\u001b[43m \u001b[49m\u001b[43mnp\u001b[49m\u001b[38;5;241;43m.\u001b[39;49m\u001b[43mnanmax\u001b[49m\u001b[43m(\u001b[49m\u001b[43m[\u001b[49m\n\u001b[1;32m    972\u001b[0m \u001b[43m                \u001b[49m\u001b[43mv\u001b[49m\u001b[43m[\u001b[49m\u001b[38;5;124;43m\"\u001b[39;49m\u001b[38;5;124;43mdensity\u001b[39;49m\u001b[38;5;124;43m\"\u001b[39;49m\u001b[43m]\u001b[49m\u001b[38;5;241;43m.\u001b[39;49m\u001b[43mmax\u001b[49m\u001b[43m(\u001b[49m\u001b[43m)\u001b[49m\u001b[43m \u001b[49m\u001b[38;5;28;43;01mfor\u001b[39;49;00m\u001b[43m \u001b[49m\u001b[43mv\u001b[49m\u001b[43m \u001b[49m\u001b[38;5;129;43;01min\u001b[39;49;00m\u001b[43m \u001b[49m\u001b[43mviolin_data\u001b[49m\n\u001b[1;32m    973\u001b[0m \u001b[43m                \u001b[49m\u001b[38;5;28;43;01mif\u001b[39;49;00m\u001b[43m \u001b[49m\u001b[43mvars_to_key\u001b[49m\u001b[43m(\u001b[49m\u001b[43mv\u001b[49m\u001b[43m[\u001b[49m\u001b[38;5;124;43m\"\u001b[39;49m\u001b[38;5;124;43msub_vars\u001b[39;49m\u001b[38;5;124;43m\"\u001b[39;49m\u001b[43m]\u001b[49m\u001b[43m)\u001b[49m\u001b[43m \u001b[49m\u001b[38;5;241;43m==\u001b[39;49m\u001b[43m \u001b[49m\u001b[43mkey\u001b[49m\n\u001b[1;32m    974\u001b[0m \u001b[43m            \u001b[49m\u001b[43m]\u001b[49m\u001b[43m)\u001b[49m\u001b[43m \u001b[49m\u001b[38;5;28;43;01mfor\u001b[39;49;00m\u001b[43m \u001b[49m\u001b[43mkey\u001b[49m\u001b[43m \u001b[49m\u001b[38;5;129;43;01min\u001b[39;49;00m\u001b[43m \u001b[49m\u001b[43mnorm_keys\u001b[49m\n\u001b[1;32m    975\u001b[0m \u001b[43m        \u001b[49m\u001b[43m}\u001b[49m\n\u001b[1;32m    976\u001b[0m     max_count \u001b[38;5;241m=\u001b[39m {\n\u001b[1;32m    977\u001b[0m         key: np\u001b[38;5;241m.\u001b[39mnanmax([\n\u001b[1;32m    978\u001b[0m             \u001b[38;5;28mlen\u001b[39m(v[\u001b[38;5;124m\"\u001b[39m\u001b[38;5;124mobservations\u001b[39m\u001b[38;5;124m\"\u001b[39m]) \u001b[38;5;28;01mfor\u001b[39;00m v \u001b[38;5;129;01min\u001b[39;00m violin_data\n\u001b[1;32m    979\u001b[0m             \u001b[38;5;28;01mif\u001b[39;00m vars_to_key(v[\u001b[38;5;124m\"\u001b[39m\u001b[38;5;124msub_vars\u001b[39m\u001b[38;5;124m\"\u001b[39m]) \u001b[38;5;241m==\u001b[39m key\n\u001b[1;32m    980\u001b[0m         ]) \u001b[38;5;28;01mfor\u001b[39;00m key \u001b[38;5;129;01min\u001b[39;00m norm_keys\n\u001b[1;32m    981\u001b[0m     }\n\u001b[1;32m    983\u001b[0m real_width \u001b[38;5;241m=\u001b[39m width \u001b[38;5;241m*\u001b[39m \u001b[38;5;28mself\u001b[39m\u001b[38;5;241m.\u001b[39m_native_width\n",
      "File \u001b[0;32m/beegfs/scratch/ric.broccoli/kubacki.michal/conda_envs/snakemake/lib/python3.11/site-packages/seaborn/categorical.py:971\u001b[0m, in \u001b[0;36m<dictcomp>\u001b[0;34m(.0)\u001b[0m\n\u001b[1;32m    967\u001b[0m     \u001b[38;5;28;01mwith\u001b[39;00m warnings\u001b[38;5;241m.\u001b[39mcatch_warnings():\n\u001b[1;32m    968\u001b[0m         \u001b[38;5;66;03m# Ignore warning when all violins are singular; it's not important\u001b[39;00m\n\u001b[1;32m    969\u001b[0m         warnings\u001b[38;5;241m.\u001b[39mfilterwarnings(\u001b[38;5;124m'\u001b[39m\u001b[38;5;124mignore\u001b[39m\u001b[38;5;124m'\u001b[39m, \u001b[38;5;124m\"\u001b[39m\u001b[38;5;124mAll-NaN (slice|axis) encountered\u001b[39m\u001b[38;5;124m\"\u001b[39m)\n\u001b[1;32m    970\u001b[0m         max_density \u001b[38;5;241m=\u001b[39m {\n\u001b[0;32m--> 971\u001b[0m             key: np\u001b[38;5;241m.\u001b[39mnanmax(\u001b[43m[\u001b[49m\n\u001b[1;32m    972\u001b[0m \u001b[43m                \u001b[49m\u001b[43mv\u001b[49m\u001b[43m[\u001b[49m\u001b[38;5;124;43m\"\u001b[39;49m\u001b[38;5;124;43mdensity\u001b[39;49m\u001b[38;5;124;43m\"\u001b[39;49m\u001b[43m]\u001b[49m\u001b[38;5;241;43m.\u001b[39;49m\u001b[43mmax\u001b[49m\u001b[43m(\u001b[49m\u001b[43m)\u001b[49m\u001b[43m \u001b[49m\u001b[38;5;28;43;01mfor\u001b[39;49;00m\u001b[43m \u001b[49m\u001b[43mv\u001b[49m\u001b[43m \u001b[49m\u001b[38;5;129;43;01min\u001b[39;49;00m\u001b[43m \u001b[49m\u001b[43mviolin_data\u001b[49m\n\u001b[1;32m    973\u001b[0m \u001b[43m                \u001b[49m\u001b[38;5;28;43;01mif\u001b[39;49;00m\u001b[43m \u001b[49m\u001b[43mvars_to_key\u001b[49m\u001b[43m(\u001b[49m\u001b[43mv\u001b[49m\u001b[43m[\u001b[49m\u001b[38;5;124;43m\"\u001b[39;49m\u001b[38;5;124;43msub_vars\u001b[39;49m\u001b[38;5;124;43m\"\u001b[39;49m\u001b[43m]\u001b[49m\u001b[43m)\u001b[49m\u001b[43m \u001b[49m\u001b[38;5;241;43m==\u001b[39;49m\u001b[43m \u001b[49m\u001b[43mkey\u001b[49m\n\u001b[1;32m    974\u001b[0m \u001b[43m            \u001b[49m\u001b[43m]\u001b[49m) \u001b[38;5;28;01mfor\u001b[39;00m key \u001b[38;5;129;01min\u001b[39;00m norm_keys\n\u001b[1;32m    975\u001b[0m         }\n\u001b[1;32m    976\u001b[0m     max_count \u001b[38;5;241m=\u001b[39m {\n\u001b[1;32m    977\u001b[0m         key: np\u001b[38;5;241m.\u001b[39mnanmax([\n\u001b[1;32m    978\u001b[0m             \u001b[38;5;28mlen\u001b[39m(v[\u001b[38;5;124m\"\u001b[39m\u001b[38;5;124mobservations\u001b[39m\u001b[38;5;124m\"\u001b[39m]) \u001b[38;5;28;01mfor\u001b[39;00m v \u001b[38;5;129;01min\u001b[39;00m violin_data\n\u001b[1;32m    979\u001b[0m             \u001b[38;5;28;01mif\u001b[39;00m vars_to_key(v[\u001b[38;5;124m\"\u001b[39m\u001b[38;5;124msub_vars\u001b[39m\u001b[38;5;124m\"\u001b[39m]) \u001b[38;5;241m==\u001b[39m key\n\u001b[1;32m    980\u001b[0m         ]) \u001b[38;5;28;01mfor\u001b[39;00m key \u001b[38;5;129;01min\u001b[39;00m norm_keys\n\u001b[1;32m    981\u001b[0m     }\n\u001b[1;32m    983\u001b[0m real_width \u001b[38;5;241m=\u001b[39m width \u001b[38;5;241m*\u001b[39m \u001b[38;5;28mself\u001b[39m\u001b[38;5;241m.\u001b[39m_native_width\n",
      "File \u001b[0;32m/beegfs/scratch/ric.broccoli/kubacki.michal/conda_envs/snakemake/lib/python3.11/site-packages/seaborn/categorical.py:972\u001b[0m, in \u001b[0;36m<listcomp>\u001b[0;34m(.0)\u001b[0m\n\u001b[1;32m    967\u001b[0m     \u001b[38;5;28;01mwith\u001b[39;00m warnings\u001b[38;5;241m.\u001b[39mcatch_warnings():\n\u001b[1;32m    968\u001b[0m         \u001b[38;5;66;03m# Ignore warning when all violins are singular; it's not important\u001b[39;00m\n\u001b[1;32m    969\u001b[0m         warnings\u001b[38;5;241m.\u001b[39mfilterwarnings(\u001b[38;5;124m'\u001b[39m\u001b[38;5;124mignore\u001b[39m\u001b[38;5;124m'\u001b[39m, \u001b[38;5;124m\"\u001b[39m\u001b[38;5;124mAll-NaN (slice|axis) encountered\u001b[39m\u001b[38;5;124m\"\u001b[39m)\n\u001b[1;32m    970\u001b[0m         max_density \u001b[38;5;241m=\u001b[39m {\n\u001b[1;32m    971\u001b[0m             key: np\u001b[38;5;241m.\u001b[39mnanmax([\n\u001b[0;32m--> 972\u001b[0m                 \u001b[43mv\u001b[49m\u001b[43m[\u001b[49m\u001b[38;5;124;43m\"\u001b[39;49m\u001b[38;5;124;43mdensity\u001b[39;49m\u001b[38;5;124;43m\"\u001b[39;49m\u001b[43m]\u001b[49m\u001b[38;5;241;43m.\u001b[39;49m\u001b[43mmax\u001b[49m\u001b[43m(\u001b[49m\u001b[43m)\u001b[49m \u001b[38;5;28;01mfor\u001b[39;00m v \u001b[38;5;129;01min\u001b[39;00m violin_data\n\u001b[1;32m    973\u001b[0m                 \u001b[38;5;28;01mif\u001b[39;00m vars_to_key(v[\u001b[38;5;124m\"\u001b[39m\u001b[38;5;124msub_vars\u001b[39m\u001b[38;5;124m\"\u001b[39m]) \u001b[38;5;241m==\u001b[39m key\n\u001b[1;32m    974\u001b[0m             ]) \u001b[38;5;28;01mfor\u001b[39;00m key \u001b[38;5;129;01min\u001b[39;00m norm_keys\n\u001b[1;32m    975\u001b[0m         }\n\u001b[1;32m    976\u001b[0m     max_count \u001b[38;5;241m=\u001b[39m {\n\u001b[1;32m    977\u001b[0m         key: np\u001b[38;5;241m.\u001b[39mnanmax([\n\u001b[1;32m    978\u001b[0m             \u001b[38;5;28mlen\u001b[39m(v[\u001b[38;5;124m\"\u001b[39m\u001b[38;5;124mobservations\u001b[39m\u001b[38;5;124m\"\u001b[39m]) \u001b[38;5;28;01mfor\u001b[39;00m v \u001b[38;5;129;01min\u001b[39;00m violin_data\n\u001b[1;32m    979\u001b[0m             \u001b[38;5;28;01mif\u001b[39;00m vars_to_key(v[\u001b[38;5;124m\"\u001b[39m\u001b[38;5;124msub_vars\u001b[39m\u001b[38;5;124m\"\u001b[39m]) \u001b[38;5;241m==\u001b[39m key\n\u001b[1;32m    980\u001b[0m         ]) \u001b[38;5;28;01mfor\u001b[39;00m key \u001b[38;5;129;01min\u001b[39;00m norm_keys\n\u001b[1;32m    981\u001b[0m     }\n\u001b[1;32m    983\u001b[0m real_width \u001b[38;5;241m=\u001b[39m width \u001b[38;5;241m*\u001b[39m \u001b[38;5;28mself\u001b[39m\u001b[38;5;241m.\u001b[39m_native_width\n",
      "File \u001b[0;32m/beegfs/scratch/ric.broccoli/kubacki.michal/conda_envs/snakemake/lib/python3.11/site-packages/pandas/core/series.py:6517\u001b[0m, in \u001b[0;36mSeries.max\u001b[0;34m(self, axis, skipna, numeric_only, **kwargs)\u001b[0m\n\u001b[1;32m   6509\u001b[0m \u001b[38;5;129m@doc\u001b[39m(make_doc(\u001b[38;5;124m\"\u001b[39m\u001b[38;5;124mmax\u001b[39m\u001b[38;5;124m\"\u001b[39m, ndim\u001b[38;5;241m=\u001b[39m\u001b[38;5;241m1\u001b[39m))\n\u001b[1;32m   6510\u001b[0m \u001b[38;5;28;01mdef\u001b[39;00m \u001b[38;5;21mmax\u001b[39m(\n\u001b[1;32m   6511\u001b[0m     \u001b[38;5;28mself\u001b[39m,\n\u001b[0;32m   (...)\u001b[0m\n\u001b[1;32m   6515\u001b[0m     \u001b[38;5;241m*\u001b[39m\u001b[38;5;241m*\u001b[39mkwargs,\n\u001b[1;32m   6516\u001b[0m ):\n\u001b[0;32m-> 6517\u001b[0m     \u001b[38;5;28;01mreturn\u001b[39;00m \u001b[43mNDFrame\u001b[49m\u001b[38;5;241;43m.\u001b[39;49m\u001b[43mmax\u001b[49m\u001b[43m(\u001b[49m\u001b[38;5;28;43mself\u001b[39;49m\u001b[43m,\u001b[49m\u001b[43m \u001b[49m\u001b[43maxis\u001b[49m\u001b[43m,\u001b[49m\u001b[43m \u001b[49m\u001b[43mskipna\u001b[49m\u001b[43m,\u001b[49m\u001b[43m \u001b[49m\u001b[43mnumeric_only\u001b[49m\u001b[43m,\u001b[49m\u001b[43m \u001b[49m\u001b[38;5;241;43m*\u001b[39;49m\u001b[38;5;241;43m*\u001b[39;49m\u001b[43mkwargs\u001b[49m\u001b[43m)\u001b[49m\n",
      "File \u001b[0;32m/beegfs/scratch/ric.broccoli/kubacki.michal/conda_envs/snakemake/lib/python3.11/site-packages/pandas/core/generic.py:12404\u001b[0m, in \u001b[0;36mNDFrame.max\u001b[0;34m(self, axis, skipna, numeric_only, **kwargs)\u001b[0m\n\u001b[1;32m  12397\u001b[0m \u001b[38;5;28;01mdef\u001b[39;00m \u001b[38;5;21mmax\u001b[39m(\n\u001b[1;32m  12398\u001b[0m     \u001b[38;5;28mself\u001b[39m,\n\u001b[1;32m  12399\u001b[0m     axis: Axis \u001b[38;5;241m|\u001b[39m \u001b[38;5;28;01mNone\u001b[39;00m \u001b[38;5;241m=\u001b[39m \u001b[38;5;241m0\u001b[39m,\n\u001b[0;32m   (...)\u001b[0m\n\u001b[1;32m  12402\u001b[0m     \u001b[38;5;241m*\u001b[39m\u001b[38;5;241m*\u001b[39mkwargs,\n\u001b[1;32m  12403\u001b[0m ):\n\u001b[0;32m> 12404\u001b[0m     \u001b[38;5;28;01mreturn\u001b[39;00m \u001b[38;5;28;43mself\u001b[39;49m\u001b[38;5;241;43m.\u001b[39;49m\u001b[43m_stat_function\u001b[49m\u001b[43m(\u001b[49m\n\u001b[1;32m  12405\u001b[0m \u001b[43m        \u001b[49m\u001b[38;5;124;43m\"\u001b[39;49m\u001b[38;5;124;43mmax\u001b[39;49m\u001b[38;5;124;43m\"\u001b[39;49m\u001b[43m,\u001b[49m\n\u001b[1;32m  12406\u001b[0m \u001b[43m        \u001b[49m\u001b[43mnanops\u001b[49m\u001b[38;5;241;43m.\u001b[39;49m\u001b[43mnanmax\u001b[49m\u001b[43m,\u001b[49m\n\u001b[1;32m  12407\u001b[0m \u001b[43m        \u001b[49m\u001b[43maxis\u001b[49m\u001b[43m,\u001b[49m\n\u001b[1;32m  12408\u001b[0m \u001b[43m        \u001b[49m\u001b[43mskipna\u001b[49m\u001b[43m,\u001b[49m\n\u001b[1;32m  12409\u001b[0m \u001b[43m        \u001b[49m\u001b[43mnumeric_only\u001b[49m\u001b[43m,\u001b[49m\n\u001b[1;32m  12410\u001b[0m \u001b[43m        \u001b[49m\u001b[38;5;241;43m*\u001b[39;49m\u001b[38;5;241;43m*\u001b[39;49m\u001b[43mkwargs\u001b[49m\u001b[43m,\u001b[49m\n\u001b[1;32m  12411\u001b[0m \u001b[43m    \u001b[49m\u001b[43m)\u001b[49m\n",
      "File \u001b[0;32m/beegfs/scratch/ric.broccoli/kubacki.michal/conda_envs/snakemake/lib/python3.11/site-packages/pandas/core/generic.py:12377\u001b[0m, in \u001b[0;36mNDFrame._stat_function\u001b[0;34m(self, name, func, axis, skipna, numeric_only, **kwargs)\u001b[0m\n\u001b[1;32m  12373\u001b[0m nv\u001b[38;5;241m.\u001b[39mvalidate_func(name, (), kwargs)\n\u001b[1;32m  12375\u001b[0m validate_bool_kwarg(skipna, \u001b[38;5;124m\"\u001b[39m\u001b[38;5;124mskipna\u001b[39m\u001b[38;5;124m\"\u001b[39m, none_allowed\u001b[38;5;241m=\u001b[39m\u001b[38;5;28;01mFalse\u001b[39;00m)\n\u001b[0;32m> 12377\u001b[0m \u001b[38;5;28;01mreturn\u001b[39;00m \u001b[38;5;28;43mself\u001b[39;49m\u001b[38;5;241;43m.\u001b[39;49m\u001b[43m_reduce\u001b[49m\u001b[43m(\u001b[49m\n\u001b[1;32m  12378\u001b[0m \u001b[43m    \u001b[49m\u001b[43mfunc\u001b[49m\u001b[43m,\u001b[49m\u001b[43m \u001b[49m\u001b[43mname\u001b[49m\u001b[38;5;241;43m=\u001b[39;49m\u001b[43mname\u001b[49m\u001b[43m,\u001b[49m\u001b[43m \u001b[49m\u001b[43maxis\u001b[49m\u001b[38;5;241;43m=\u001b[39;49m\u001b[43maxis\u001b[49m\u001b[43m,\u001b[49m\u001b[43m \u001b[49m\u001b[43mskipna\u001b[49m\u001b[38;5;241;43m=\u001b[39;49m\u001b[43mskipna\u001b[49m\u001b[43m,\u001b[49m\u001b[43m \u001b[49m\u001b[43mnumeric_only\u001b[49m\u001b[38;5;241;43m=\u001b[39;49m\u001b[43mnumeric_only\u001b[49m\n\u001b[1;32m  12379\u001b[0m \u001b[43m\u001b[49m\u001b[43m)\u001b[49m\n",
      "File \u001b[0;32m/beegfs/scratch/ric.broccoli/kubacki.michal/conda_envs/snakemake/lib/python3.11/site-packages/pandas/core/series.py:6457\u001b[0m, in \u001b[0;36mSeries._reduce\u001b[0;34m(self, op, name, axis, skipna, numeric_only, filter_type, **kwds)\u001b[0m\n\u001b[1;32m   6452\u001b[0m     \u001b[38;5;66;03m# GH#47500 - change to TypeError to match other methods\u001b[39;00m\n\u001b[1;32m   6453\u001b[0m     \u001b[38;5;28;01mraise\u001b[39;00m \u001b[38;5;167;01mTypeError\u001b[39;00m(\n\u001b[1;32m   6454\u001b[0m         \u001b[38;5;124mf\u001b[39m\u001b[38;5;124m\"\u001b[39m\u001b[38;5;124mSeries.\u001b[39m\u001b[38;5;132;01m{\u001b[39;00mname\u001b[38;5;132;01m}\u001b[39;00m\u001b[38;5;124m does not allow \u001b[39m\u001b[38;5;132;01m{\u001b[39;00mkwd_name\u001b[38;5;132;01m}\u001b[39;00m\u001b[38;5;124m=\u001b[39m\u001b[38;5;132;01m{\u001b[39;00mnumeric_only\u001b[38;5;132;01m}\u001b[39;00m\u001b[38;5;124m \u001b[39m\u001b[38;5;124m\"\u001b[39m\n\u001b[1;32m   6455\u001b[0m         \u001b[38;5;124m\"\u001b[39m\u001b[38;5;124mwith non-numeric dtypes.\u001b[39m\u001b[38;5;124m\"\u001b[39m\n\u001b[1;32m   6456\u001b[0m     )\n\u001b[0;32m-> 6457\u001b[0m \u001b[38;5;28;01mreturn\u001b[39;00m \u001b[43mop\u001b[49m\u001b[43m(\u001b[49m\u001b[43mdelegate\u001b[49m\u001b[43m,\u001b[49m\u001b[43m \u001b[49m\u001b[43mskipna\u001b[49m\u001b[38;5;241;43m=\u001b[39;49m\u001b[43mskipna\u001b[49m\u001b[43m,\u001b[49m\u001b[43m \u001b[49m\u001b[38;5;241;43m*\u001b[39;49m\u001b[38;5;241;43m*\u001b[39;49m\u001b[43mkwds\u001b[49m\u001b[43m)\u001b[49m\n",
      "File \u001b[0;32m/beegfs/scratch/ric.broccoli/kubacki.michal/conda_envs/snakemake/lib/python3.11/site-packages/pandas/core/nanops.py:147\u001b[0m, in \u001b[0;36mbottleneck_switch.__call__.<locals>.f\u001b[0;34m(values, axis, skipna, **kwds)\u001b[0m\n\u001b[1;32m    145\u001b[0m         result \u001b[38;5;241m=\u001b[39m alt(values, axis\u001b[38;5;241m=\u001b[39maxis, skipna\u001b[38;5;241m=\u001b[39mskipna, \u001b[38;5;241m*\u001b[39m\u001b[38;5;241m*\u001b[39mkwds)\n\u001b[1;32m    146\u001b[0m \u001b[38;5;28;01melse\u001b[39;00m:\n\u001b[0;32m--> 147\u001b[0m     result \u001b[38;5;241m=\u001b[39m \u001b[43malt\u001b[49m\u001b[43m(\u001b[49m\u001b[43mvalues\u001b[49m\u001b[43m,\u001b[49m\u001b[43m \u001b[49m\u001b[43maxis\u001b[49m\u001b[38;5;241;43m=\u001b[39;49m\u001b[43maxis\u001b[49m\u001b[43m,\u001b[49m\u001b[43m \u001b[49m\u001b[43mskipna\u001b[49m\u001b[38;5;241;43m=\u001b[39;49m\u001b[43mskipna\u001b[49m\u001b[43m,\u001b[49m\u001b[43m \u001b[49m\u001b[38;5;241;43m*\u001b[39;49m\u001b[38;5;241;43m*\u001b[39;49m\u001b[43mkwds\u001b[49m\u001b[43m)\u001b[49m\n\u001b[1;32m    149\u001b[0m \u001b[38;5;28;01mreturn\u001b[39;00m result\n",
      "File \u001b[0;32m/beegfs/scratch/ric.broccoli/kubacki.michal/conda_envs/snakemake/lib/python3.11/site-packages/pandas/core/nanops.py:404\u001b[0m, in \u001b[0;36m_datetimelike_compat.<locals>.new_func\u001b[0;34m(values, axis, skipna, mask, **kwargs)\u001b[0m\n\u001b[1;32m    401\u001b[0m \u001b[38;5;28;01mif\u001b[39;00m datetimelike \u001b[38;5;129;01mand\u001b[39;00m mask \u001b[38;5;129;01mis\u001b[39;00m \u001b[38;5;28;01mNone\u001b[39;00m:\n\u001b[1;32m    402\u001b[0m     mask \u001b[38;5;241m=\u001b[39m isna(values)\n\u001b[0;32m--> 404\u001b[0m result \u001b[38;5;241m=\u001b[39m \u001b[43mfunc\u001b[49m\u001b[43m(\u001b[49m\u001b[43mvalues\u001b[49m\u001b[43m,\u001b[49m\u001b[43m \u001b[49m\u001b[43maxis\u001b[49m\u001b[38;5;241;43m=\u001b[39;49m\u001b[43maxis\u001b[49m\u001b[43m,\u001b[49m\u001b[43m \u001b[49m\u001b[43mskipna\u001b[49m\u001b[38;5;241;43m=\u001b[39;49m\u001b[43mskipna\u001b[49m\u001b[43m,\u001b[49m\u001b[43m \u001b[49m\u001b[43mmask\u001b[49m\u001b[38;5;241;43m=\u001b[39;49m\u001b[43mmask\u001b[49m\u001b[43m,\u001b[49m\u001b[43m \u001b[49m\u001b[38;5;241;43m*\u001b[39;49m\u001b[38;5;241;43m*\u001b[39;49m\u001b[43mkwargs\u001b[49m\u001b[43m)\u001b[49m\n\u001b[1;32m    406\u001b[0m \u001b[38;5;28;01mif\u001b[39;00m datetimelike:\n\u001b[1;32m    407\u001b[0m     result \u001b[38;5;241m=\u001b[39m _wrap_results(result, orig_values\u001b[38;5;241m.\u001b[39mdtype, fill_value\u001b[38;5;241m=\u001b[39miNaT)\n",
      "File \u001b[0;32m/beegfs/scratch/ric.broccoli/kubacki.michal/conda_envs/snakemake/lib/python3.11/site-packages/pandas/core/nanops.py:1099\u001b[0m, in \u001b[0;36m_nanminmax.<locals>.reduction\u001b[0;34m(values, axis, skipna, mask)\u001b[0m\n\u001b[1;32m   1095\u001b[0m values, mask \u001b[38;5;241m=\u001b[39m _get_values(\n\u001b[1;32m   1096\u001b[0m     values, skipna, fill_value_typ\u001b[38;5;241m=\u001b[39mfill_value_typ, mask\u001b[38;5;241m=\u001b[39mmask\n\u001b[1;32m   1097\u001b[0m )\n\u001b[1;32m   1098\u001b[0m result \u001b[38;5;241m=\u001b[39m \u001b[38;5;28mgetattr\u001b[39m(values, meth)(axis)\n\u001b[0;32m-> 1099\u001b[0m result \u001b[38;5;241m=\u001b[39m \u001b[43m_maybe_null_out\u001b[49m\u001b[43m(\u001b[49m\u001b[43mresult\u001b[49m\u001b[43m,\u001b[49m\u001b[43m \u001b[49m\u001b[43maxis\u001b[49m\u001b[43m,\u001b[49m\u001b[43m \u001b[49m\u001b[43mmask\u001b[49m\u001b[43m,\u001b[49m\u001b[43m \u001b[49m\u001b[43mvalues\u001b[49m\u001b[38;5;241;43m.\u001b[39;49m\u001b[43mshape\u001b[49m\u001b[43m)\u001b[49m\n\u001b[1;32m   1100\u001b[0m \u001b[38;5;28;01mreturn\u001b[39;00m result\n",
      "File \u001b[0;32m/beegfs/scratch/ric.broccoli/kubacki.michal/conda_envs/snakemake/lib/python3.11/site-packages/pandas/core/nanops.py:1536\u001b[0m, in \u001b[0;36m_maybe_null_out\u001b[0;34m(result, axis, mask, shape, min_count)\u001b[0m\n\u001b[1;32m   1534\u001b[0m             result[null_mask] \u001b[38;5;241m=\u001b[39m \u001b[38;5;28;01mNone\u001b[39;00m\n\u001b[1;32m   1535\u001b[0m \u001b[38;5;28;01melif\u001b[39;00m result \u001b[38;5;129;01mis\u001b[39;00m \u001b[38;5;129;01mnot\u001b[39;00m NaT:\n\u001b[0;32m-> 1536\u001b[0m     \u001b[38;5;28;01mif\u001b[39;00m \u001b[43mcheck_below_min_count\u001b[49m\u001b[43m(\u001b[49m\u001b[43mshape\u001b[49m\u001b[43m,\u001b[49m\u001b[43m \u001b[49m\u001b[43mmask\u001b[49m\u001b[43m,\u001b[49m\u001b[43m \u001b[49m\u001b[43mmin_count\u001b[49m\u001b[43m)\u001b[49m:\n\u001b[1;32m   1537\u001b[0m         result_dtype \u001b[38;5;241m=\u001b[39m \u001b[38;5;28mgetattr\u001b[39m(result, \u001b[38;5;124m\"\u001b[39m\u001b[38;5;124mdtype\u001b[39m\u001b[38;5;124m\"\u001b[39m, \u001b[38;5;28;01mNone\u001b[39;00m)\n\u001b[1;32m   1538\u001b[0m         \u001b[38;5;28;01mif\u001b[39;00m is_float_dtype(result_dtype):\n\u001b[1;32m   1539\u001b[0m             \u001b[38;5;66;03m# error: Item \"None\" of \"Optional[Any]\" has no attribute \"type\"\u001b[39;00m\n",
      "File \u001b[0;32m/beegfs/scratch/ric.broccoli/kubacki.michal/conda_envs/snakemake/lib/python3.11/site-packages/pandas/core/nanops.py:1572\u001b[0m, in \u001b[0;36mcheck_below_min_count\u001b[0;34m(shape, mask, min_count)\u001b[0m\n\u001b[1;32m   1570\u001b[0m     non_nulls \u001b[38;5;241m=\u001b[39m np\u001b[38;5;241m.\u001b[39mprod(shape)\n\u001b[1;32m   1571\u001b[0m \u001b[38;5;28;01melse\u001b[39;00m:\n\u001b[0;32m-> 1572\u001b[0m     non_nulls \u001b[38;5;241m=\u001b[39m mask\u001b[38;5;241m.\u001b[39msize \u001b[38;5;241m-\u001b[39m \u001b[43mmask\u001b[49m\u001b[38;5;241;43m.\u001b[39;49m\u001b[43msum\u001b[49m\u001b[43m(\u001b[49m\u001b[43m)\u001b[49m\n\u001b[1;32m   1573\u001b[0m \u001b[38;5;28;01mif\u001b[39;00m non_nulls \u001b[38;5;241m<\u001b[39m min_count:\n\u001b[1;32m   1574\u001b[0m     \u001b[38;5;28;01mreturn\u001b[39;00m \u001b[38;5;28;01mTrue\u001b[39;00m\n",
      "File \u001b[0;32m/beegfs/scratch/ric.broccoli/kubacki.michal/conda_envs/snakemake/lib/python3.11/site-packages/numpy/core/_methods.py:49\u001b[0m, in \u001b[0;36m_sum\u001b[0;34m(a, axis, dtype, out, keepdims, initial, where)\u001b[0m\n\u001b[1;32m     47\u001b[0m \u001b[38;5;28;01mdef\u001b[39;00m \u001b[38;5;21m_sum\u001b[39m(a, axis\u001b[38;5;241m=\u001b[39m\u001b[38;5;28;01mNone\u001b[39;00m, dtype\u001b[38;5;241m=\u001b[39m\u001b[38;5;28;01mNone\u001b[39;00m, out\u001b[38;5;241m=\u001b[39m\u001b[38;5;28;01mNone\u001b[39;00m, keepdims\u001b[38;5;241m=\u001b[39m\u001b[38;5;28;01mFalse\u001b[39;00m,\n\u001b[1;32m     48\u001b[0m          initial\u001b[38;5;241m=\u001b[39m_NoValue, where\u001b[38;5;241m=\u001b[39m\u001b[38;5;28;01mTrue\u001b[39;00m):\n\u001b[0;32m---> 49\u001b[0m     \u001b[38;5;28;01mreturn\u001b[39;00m umr_sum(a, axis, dtype, out, keepdims, initial, where)\n",
      "\u001b[0;31mKeyboardInterrupt\u001b[0m: "
     ]
    },
    {
     "data": {
      "image/png": "[encoded data removed]",
      "text/plain": [
       "<Figure size 1200x600 with 1 Axes>"
      ]
     },
     "metadata": {},
     "output_type": "display_data"
    }
   ],
   "source": [
    "plot_temporal_expression(data)"
   ]
  },
  {
   "cell_type": "code",
   "execution_count": null,
   "id": "96044372",
   "metadata": {
    "lines_to_next_cell": 0
   },
   "outputs": [],
   "source": [
    "plot_cell_type_expression(data)"
   ]
  },
  {
   "cell_type": "code",
   "execution_count": null,
   "id": "61e9cbd8",
   "metadata": {
    "lines_to_next_cell": 0
   },
   "outputs": [],
   "source": [
    "plot_regional_expression(data)"
   ]
  },
  {
   "cell_type": "code",
   "execution_count": null,
   "id": "e3c88d27",
   "metadata": {},
   "outputs": [],
   "source": [
    "plot_temporal_cell_type_heatmap(data)"
   ]
  },
  {
   "cell_type": "code",
   "execution_count": null,
   "id": "e51eb68b",
   "metadata": {},
   "outputs": [],
   "source": [
    "# Basic statistics\n",
    "print(\"\\nSrrm3 Expression Statistics:\")\n",
    "print(f\"Mean expression: {np.mean(data['Expression']):.4f}\")\n",
    "print(f\"Median expression: {np.median(data['Expression']):.4f}\")\n",
    "print(f\"Percentage of cells expressing Srrm3: {(data['Expression'] > 0).mean() * 100:.2f}%\")"
   ]
  },
  {
   "cell_type": "code",
   "execution_count": null,
   "id": "82ccc092",
   "metadata": {},
   "outputs": [],
   "source": [
    "# Top expressing cell types\n",
    "df = pd.DataFrame({\n",
    "    'Cell Type': data['Class'],\n",
    "    'Expression': data['Expression']\n",
    "})\n",
    "\n",
    "print(\"\\nTop 5 Cell Types by Mean Srrm3 Expression:\")\n",
    "print(df.groupby('Cell Type')['Expression']\n",
    "        .agg(['mean', 'count'])\n",
    "        .sort_values('mean', ascending=False)\n",
    "        .head())"
   ]
  },
  {
   "cell_type": "code",
   "execution_count": 5,
   "metadata": {
    "lines_to_next_cell": 2
   },
   "outputs": [
    {
     "name": "stdout",
     "output_type": "stream",
     "text": [
      "1.24.3\n"
     ]
    }
   ],
   "source": [
    "print(np.__version__)\n",
    "\n",
    "\n"
   ]
  }
 ],
 "metadata": {
  "jupytext": {
   "formats": "ipynb,py"
  },
  "kernelspec": {
   "display_name": "Python (snakemake)",
   "language": "python",
   "name": "snakemake"
  },
  "language_info": {
   "codemirror_mode": {
    "name": "ipython",
    "version": 3
   },
   "file_extension": ".py",
   "mimetype": "text/x-python",
   "name": "python",
   "nbconvert_exporter": "python",
   "pygments_lexer": "ipython3",
   "version": "3.11.10"
  }
 },
 "nbformat": 4,
 "nbformat_minor": 2
}

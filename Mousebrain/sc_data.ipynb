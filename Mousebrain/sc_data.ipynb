{
 "cells": [
  {
   "cell_type": "code",
   "execution_count": 4,
   "metadata": {},
   "outputs": [],
   "source": [
    "# Import required libraries\n",
    "import loompy\n",
    "import numpy as np\n",
    "import pandas as pd\n",
    "import gc  # for garbage collection\n",
    "import os\n",
    "\n",
    "# Set working directory\n",
    "os.chdir('/beegfs/scratch/ric.broccoli/kubacki.michal/SRF_SRRM3_dev/Mousebrain')\n"
   ]
  },
  {
   "cell_type": "code",
   "execution_count": 5,
   "metadata": {},
   "outputs": [
    {
     "name": "stdout",
     "output_type": "stream",
     "text": [
      "1.24.3\n"
     ]
    }
   ],
   "source": [
    "print(np.__version__)"
   ]
  },
  {
   "cell_type": "code",
   "execution_count": 6,
   "metadata": {},
   "outputs": [],
   "source": [
    "loom_path = \"/beegfs/scratch/ric.broccoli/kubacki.michal/SRF_SRRM3_dev/Mousebrain/DATA/dev_all.loom\""
   ]
  },
  {
   "cell_type": "code",
   "execution_count": 7,
   "metadata": {},
   "outputs": [
    {
     "name": "stdout",
     "output_type": "stream",
     "text": [
      "File exists: True\n",
      "File size: 9.56 GB\n"
     ]
    }
   ],
   "source": [
    "# Verify file exists\n",
    "print(f\"File exists: {os.path.exists(loom_path)}\")\n",
    "print(f\"File size: {os.path.getsize(loom_path) / (1024**3):.2f} GB\")"
   ]
  },
  {
   "cell_type": "code",
   "execution_count": 8,
   "metadata": {},
   "outputs": [
    {
     "name": "stdout",
     "output_type": "stream",
     "text": [
      "\n",
      "Dataset shape: (31053, 292495)\n",
      "Number of cells: 292,495\n",
      "Number of genes: 31,053\n",
      "\n",
      "Column attributes (cell metadata):\n",
      "- Age: object\n",
      "- BTSNE: float64\n",
      "- CellCycle: float64\n",
      "- CellID: object\n",
      "- Cell_Conc: int64\n",
      "- Chemistry: object\n",
      "- ChipID: object\n",
      "- Class: object\n",
      "- ClusterName: object\n",
      "- Clusters: int64\n",
      "- Date_Captured: object\n",
      "- DonorID: object\n",
      "- DoubletFinderPCA: float64\n",
      "- HPF: float64\n",
      "- HPF_LogPP: float64\n",
      "- HPF_theta: float64\n",
      "- IsCycling: uint8\n",
      "- Label: object\n",
      "- Location_E9_E11: object\n",
      "- NCellsCluster: int64\n",
      "- NGenes: float64\n",
      "- Num_Pooled_Animals: int64\n",
      "- PCA: float64\n",
      "- PCR_Cycles: int64\n",
      "- Plug_Date: object\n",
      "- Project: object\n",
      "- PseudoAge: float64\n",
      "- PseudoTissue: object\n",
      "- Region: object\n",
      "- SampleID: object\n",
      "- SampleName: object\n",
      "- Sample_Index: object\n",
      "- Sex: object\n",
      "- Species: object\n",
      "- Split: int64\n",
      "- Strain: object\n",
      "- Subclass: object\n",
      "- TSNE: float64\n",
      "- Target_Num_Cells: float64\n",
      "- Tissue: object\n",
      "- TotalUMI: float64\n",
      "- Transcriptome: object\n",
      "- UMAP: float32\n",
      "- UMAP3D: float32\n",
      "- cDNA_Lib_Ok: object\n",
      "- ngperul_cDNA: object\n",
      "\n",
      "Row attributes (gene metadata):\n",
      "- Accession: object\n",
      "- Chromosome: object\n",
      "- End: int64\n",
      "- Gamma: float64\n",
      "- Gene: object\n",
      "- HPF: float64\n",
      "- HPF_beta: float64\n",
      "- MultilevelMarkers: float64\n",
      "- Selected: int64\n",
      "- Start: int64\n",
      "- Strand: object\n",
      "- Valid: int64\n",
      "\n",
      "Sample of expression matrix (5x5):\n",
      "[[ 0.  0.  0.  1.  0.]\n",
      " [ 0.  2.  0.  3.  7.]\n",
      " [ 0.  0.  0.  0.  0.]\n",
      " [ 0. 11.  7.  2.  8.]\n",
      " [ 1.  1.  0.  0.  1.]]\n",
      "\n",
      "Basic statistics:\n",
      "Mean expression: 1.7600\n",
      "Median expression: 0.0000\n",
      "Sparsity: 56.00%\n"
     ]
    },
    {
     "data": {
      "text/plain": [
       "474"
      ]
     },
     "execution_count": 8,
     "metadata": {},
     "output_type": "execute_result"
    }
   ],
   "source": [
    "# Connect to the loom file (this doesn't load it entirely into memory)\n",
    "with loompy.connect(loom_path) as ds:\n",
    "    # Basic information about the dataset\n",
    "    print(\"\\nDataset shape:\", ds.shape)\n",
    "    print(f\"Number of cells: {ds.shape[1]:,}\")\n",
    "    print(f\"Number of genes: {ds.shape[0]:,}\")\n",
    "    \n",
    "    # Examine column attributes (cell metadata)\n",
    "    print(\"\\nColumn attributes (cell metadata):\")\n",
    "    for attr in ds.ca.keys():\n",
    "        print(f\"- {attr}: {ds.ca[attr].dtype}\")\n",
    "    \n",
    "    # Examine row attributes (gene metadata)\n",
    "    print(\"\\nRow attributes (gene metadata):\")\n",
    "    for attr in ds.ra.keys():\n",
    "        print(f\"- {attr}: {ds.ra[attr].dtype}\")\n",
    "    \n",
    "    # Get a small sample of the expression matrix (first 5 genes, first 5 cells)\n",
    "    print(\"\\nSample of expression matrix (5x5):\")\n",
    "    sample_matrix = ds[:5, :5]\n",
    "    print(sample_matrix)\n",
    "    \n",
    "    # Get some basic statistics\n",
    "    print(\"\\nBasic statistics:\")\n",
    "    print(f\"Mean expression: {np.mean(sample_matrix):.4f}\")\n",
    "    print(f\"Median expression: {np.median(sample_matrix):.4f}\")\n",
    "    print(f\"Sparsity: {(sample_matrix == 0).sum() / sample_matrix.size:.2%}\")\n",
    "\n",
    "# Force garbage collection\n",
    "gc.collect()"
   ]
  },
  {
   "cell_type": "code",
   "execution_count": null,
   "metadata": {},
   "outputs": [],
   "source": []
  }
 ],
 "metadata": {
  "kernelspec": {
   "display_name": "Python (snakemake)",
   "language": "python",
   "name": "snakemake"
  },
  "language_info": {
   "codemirror_mode": {
    "name": "ipython",
    "version": 3
   },
   "file_extension": ".py",
   "mimetype": "text/x-python",
   "name": "python",
   "nbconvert_exporter": "python",
   "pygments_lexer": "ipython3",
   "version": "3.11.10"
  }
 },
 "nbformat": 4,
 "nbformat_minor": 2
}
